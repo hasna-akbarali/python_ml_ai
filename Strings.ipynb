{
 "cells": [
  {
   "cell_type": "markdown",
   "metadata": {},
   "source": [
    "# 1.\tWrite a Python program to calculate the length of a string."
   ]
  },
  {
   "cell_type": "code",
   "execution_count": 1,
   "metadata": {},
   "outputs": [
    {
     "name": "stdout",
     "output_type": "stream",
     "text": [
      "Enter a string: hasna\n",
      "The length of the string is: 5\n"
     ]
    }
   ],
   "source": [
    "sentance = input(\"Enter a string: \")\n",
    "count=0\n",
    "for letter in sentance:\n",
    "    count+=1\n",
    "print(\"The length of the string is:\",count)"
   ]
  },
  {
   "cell_type": "markdown",
   "metadata": {},
   "source": [
    "# 2.\tWrite a Python program to count the number of characters (character frequency) in a string."
   ]
  },
  {
   "cell_type": "code",
   "execution_count": 2,
   "metadata": {},
   "outputs": [
    {
     "name": "stdout",
     "output_type": "stream",
     "text": [
      "Enter a string :hasna\n",
      "{'h': 1, 'a': 2, 's': 1, 'n': 1}\n"
     ]
    }
   ],
   "source": [
    "sentance = input(\"Enter a string :\")\n",
    "d ={}\n",
    "for i in sentance:\n",
    "    keys = d.keys()\n",
    "    if i in keys:\n",
    "        d[i] += 1\n",
    "    else:\n",
    "        d[i] = 1\n",
    "print(d)"
   ]
  },
  {
   "cell_type": "markdown",
   "metadata": {},
   "source": [
    "# 3.Write a Python program to get a single string from two given strings, separated by a space and swap the first two characters of each string."
   ]
  },
  {
   "cell_type": "code",
   "execution_count": 4,
   "metadata": {},
   "outputs": [
    {
     "name": "stdout",
     "output_type": "stream",
     "text": [
      "Enter the first string :Master\n",
      "Enter the second string :Python\n",
      "Paster Mython\n"
     ]
    }
   ],
   "source": [
    "first_word = input(\"Enter the first string :\")\n",
    "second_word = input(\"Enter the second string :\")\n",
    "new_string = second_word[0]+first_word[1:]+\" \"+first_word[0]+second_word[1:]\n",
    "print(new_string)"
   ]
  },
  {
   "cell_type": "markdown",
   "metadata": {},
   "source": [
    "# 4.\tWrite a Python program to add 'ing' at the end of a given string (length should be at least 3). If the given string already ends with 'ing' then add 'ly' instead. If the string length of the given string is less than 3, leave it unchanged. "
   ]
  },
  {
   "cell_type": "code",
   "execution_count": null,
   "metadata": {},
   "outputs": [],
   "source": [
    "word = input(\"Enter a string: \")\n",
    "if len(word) >= 3:\n",
    "    if word.endswith('ing'):\n",
    "        word = word+'ly'\n",
    "    else :\n",
    "        word = word+'ing'\n",
    "print(\"After making changes:\",word)"
   ]
  },
  {
   "cell_type": "markdown",
   "metadata": {},
   "source": [
    "# 5.\tWrite a Python function that takes a list of words and returns the length of the longest one."
   ]
  },
  {
   "cell_type": "code",
   "execution_count": 7,
   "metadata": {},
   "outputs": [
    {
     "name": "stdout",
     "output_type": "stream",
     "text": [
      "Enter the number of elements: 2\n",
      "Enter the elements: meow\n",
      "Enter the elements: bow\n",
      "4\n"
     ]
    }
   ],
   "source": [
    "l=[]\n",
    "n = int(input(\"Enter the number of elements: \"))\n",
    "for i in range(0,n):\n",
    "    ele = input(\"Enter the elements: \")\n",
    "    l.append(ele)\n",
    "max = len(l[0])\n",
    "for word in l:\n",
    "    if len(word) > max :\n",
    "        max = len(word)\n",
    "print(max)"
   ]
  },
  {
   "cell_type": "markdown",
   "metadata": {},
   "source": [
    "# 6.\tWrite a Python program to remove the nth index character from a nonempty string."
   ]
  },
  {
   "cell_type": "code",
   "execution_count": null,
   "metadata": {},
   "outputs": [],
   "source": [
    "word = input(\"Enter a string:\")\n",
    "n = int(input(\"Which index do you want to remove?\"))\n",
    "if n == 0:\n",
    "    print(word[1:])\n",
    "else :\n",
    "    print(word[0:n]+word[n+1:])\n",
    "    "
   ]
  },
  {
   "cell_type": "markdown",
   "metadata": {},
   "source": [
    "# 7.\tWrite a Python program to change a given string to a new string where the first and last chars have been exchanged."
   ]
  },
  {
   "cell_type": "code",
   "execution_count": null,
   "metadata": {},
   "outputs": [],
   "source": [
    "word = input(\"Enter a string: \")\n",
    "rev = word[::-1]\n",
    "print(\"After exchanging\",rev[0]+word[1:len(word)-1]+word[0])"
   ]
  },
  {
   "cell_type": "markdown",
   "metadata": {},
   "source": [
    "# 8.\tWrite a Python program to remove the characters which have odd index values of a given string"
   ]
  },
  {
   "cell_type": "code",
   "execution_count": 14,
   "metadata": {},
   "outputs": [
    {
     "name": "stdout",
     "output_type": "stream",
     "text": [
      "Enter a string: meow\n",
      "String after removing odd index values: mo\n"
     ]
    }
   ],
   "source": [
    "word = input(\"Enter a string: \")\n",
    "even_word = \"\"\n",
    "odd_word = \"\"\n",
    "for i in word:\n",
    "    if word.index(i)%2 ==0:\n",
    "        even_word +=i\n",
    "    else :\n",
    "        odd_word +=i\n",
    "print(\"String after removing odd index values:\",even_word)"
   ]
  },
  {
   "cell_type": "markdown",
   "metadata": {},
   "source": [
    "# 9.\tWrite a Python script that takes input from the user and displays that input back in upper and lower cases."
   ]
  },
  {
   "cell_type": "code",
   "execution_count": null,
   "metadata": {},
   "outputs": [],
   "source": [
    "word = input(\"Enter a string\")\n",
    "upper = word.upper()\n",
    "lower = word.lower()\n",
    "print(\"Uppercase:\",upper)\n",
    "print(\"Lowercase:\",lower)"
   ]
  },
  {
   "cell_type": "markdown",
   "metadata": {},
   "source": [
    "# 10. Write a Python program to reverse a string."
   ]
  },
  {
   "cell_type": "code",
   "execution_count": null,
   "metadata": {},
   "outputs": [],
   "source": [
    "word = input(\"Enter a string: \")\n",
    "print(word,\"in reverse is: \",word[::-1])"
   ]
  }
 ],
 "metadata": {
  "kernelspec": {
   "display_name": "Python 3",
   "language": "python",
   "name": "python3"
  },
  "language_info": {
   "codemirror_mode": {
    "name": "ipython",
    "version": 3
   },
   "file_extension": ".py",
   "mimetype": "text/x-python",
   "name": "python",
   "nbconvert_exporter": "python",
   "pygments_lexer": "ipython3",
   "version": "3.7.6"
  }
 },
 "nbformat": 4,
 "nbformat_minor": 4
}
