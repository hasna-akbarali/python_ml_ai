{
 "cells": [
  {
   "cell_type": "markdown",
   "metadata": {},
   "source": [
    "# 1.\t Prompt the user number of the list then enter the list one by one ."
   ]
  },
  {
   "cell_type": "code",
   "execution_count": 1,
   "metadata": {},
   "outputs": [
    {
     "name": "stdout",
     "output_type": "stream",
     "text": [
      "Enter the length of the list: 4\n",
      "Enter an element in list: 1\n",
      "Enter an element in list: 2\n",
      "Enter an element in list: 3\n",
      "Enter an element in list: 4\n",
      "[1, 2, 3, 4]\n"
     ]
    }
   ],
   "source": [
    "l=[]\n",
    "n = int(input(\"Enter the length of the list: \"))\n",
    "for i in range(0,n) :\n",
    "    ele = int(input(\"Enter an element in list: \"))\n",
    "    l.append(ele)\n",
    "print(l)"
   ]
  },
  {
   "cell_type": "markdown",
   "metadata": {},
   "source": [
    "# 2.\tWrite a Python program to sum all the items in a list."
   ]
  },
  {
   "cell_type": "code",
   "execution_count": 2,
   "metadata": {},
   "outputs": [
    {
     "name": "stdout",
     "output_type": "stream",
     "text": [
      "Enter the length of the list: 4\n",
      "Enter an element in list: 1\n",
      "Enter an element in list: 2\n",
      "Enter an element in list: 3\n",
      "Enter an element in list: 4\n",
      "[1, 2, 3, 4]\n",
      "10\n"
     ]
    }
   ],
   "source": [
    "l=[]\n",
    "n = int(input(\"Enter the length of the list: \"))\n",
    "for i in range(0,n) :\n",
    "    ele = int(input(\"Enter an element in list: \"))\n",
    "    l.append(ele)\n",
    "print(l)\n",
    "sum = 0\n",
    "for i in l:\n",
    "    sum+=i\n",
    "print(sum)"
   ]
  },
  {
   "cell_type": "markdown",
   "metadata": {},
   "source": [
    "# 3.\tWrite a Python program to multiplies all the items in a list."
   ]
  },
  {
   "cell_type": "code",
   "execution_count": 3,
   "metadata": {},
   "outputs": [
    {
     "name": "stdout",
     "output_type": "stream",
     "text": [
      "Enter the length of the list: 4\n",
      "Enter an element in list: 1\n",
      "Enter an element in list: 23\n",
      "Enter an element in list: 2\n",
      "Enter an element in list: 3\n",
      "[1, 23, 2, 3]\n",
      "138\n"
     ]
    }
   ],
   "source": [
    "l=[]\n",
    "n = int(input(\"Enter the length of the list: \"))\n",
    "for i in range(0,n) :\n",
    "    ele = int(input(\"Enter an element in list: \"))\n",
    "    l.append(ele)\n",
    "print(l)\n",
    "prod = 1\n",
    "for i in l:\n",
    "    prod*=i\n",
    "print(prod)"
   ]
  },
  {
   "cell_type": "markdown",
   "metadata": {},
   "source": [
    "# 4.\tWrite a Python program to get the largest number from a list."
   ]
  },
  {
   "cell_type": "code",
   "execution_count": 4,
   "metadata": {},
   "outputs": [
    {
     "name": "stdout",
     "output_type": "stream",
     "text": [
      "Enter the length of the list: 3\n",
      "Enter an element in list: 1\n",
      "Enter an element in list: 2\n",
      "Enter an element in list: 3\n",
      "Sorted List:  [1, 2, 3]\n",
      "Largest number is :  3\n"
     ]
    }
   ],
   "source": [
    "l=[]\n",
    "n = int(input(\"Enter the length of the list: \"))\n",
    "for i in range(0,n) :\n",
    "    ele = int(input(\"Enter an element in list: \"))\n",
    "    l.append(ele)\n",
    "l.sort \n",
    "print(\"Sorted List: \",l)\n",
    "\n",
    "print(\"Largest number is : \",l[n-1])"
   ]
  },
  {
   "cell_type": "markdown",
   "metadata": {},
   "source": [
    "# 5.\tWrite a Python program to get the smallest number from a list."
   ]
  },
  {
   "cell_type": "code",
   "execution_count": 5,
   "metadata": {},
   "outputs": [
    {
     "name": "stdout",
     "output_type": "stream",
     "text": [
      "Enter the length of the list: 4\n",
      "Enter an element in list: 1\n",
      "Enter an element in list: 2\n",
      "Enter an element in list: 3\n",
      "Enter an element in list: 4\n",
      "Sorted List: [1, 2, 3, 4]\n",
      "Smallest number is :  1\n"
     ]
    }
   ],
   "source": [
    "l=[]\n",
    "n = int(input(\"Enter the length of the list: \"))\n",
    "for i in range(0,n) :\n",
    "    ele = int(input(\"Enter an element in list: \"))\n",
    "    l.append(ele)\n",
    "l.sort()\n",
    "print(\"Sorted List:\",l)\n",
    "\n",
    "print(\"Smallest number is : \",l[0])"
   ]
  },
  {
   "cell_type": "markdown",
   "metadata": {},
   "source": [
    "# 6.\tWrite a Python program to count the number of strings where the string length is 2 or more and the first and last character are same from a given list of strings."
   ]
  },
  {
   "cell_type": "code",
   "execution_count": 7,
   "metadata": {},
   "outputs": [
    {
     "name": "stdout",
     "output_type": "stream",
     "text": [
      "3\n"
     ]
    }
   ],
   "source": [
    "words = ['aba','css','dad','mom']\n",
    "count=0\n",
    "for word in words:\n",
    "    if len(word) > 1 and word[0] == word[-1]:   \n",
    "        count += 1 \n",
    "print(count)"
   ]
  },
  {
   "cell_type": "markdown",
   "metadata": {},
   "source": [
    "# 7.\tWrite a Python program to remove duplicates from a list."
   ]
  },
  {
   "cell_type": "code",
   "execution_count": 8,
   "metadata": {},
   "outputs": [
    {
     "name": "stdout",
     "output_type": "stream",
     "text": [
      "Enter the length of the list: 3\n",
      "Enter an element in list: 1\n",
      "Enter an element in list: 2\n",
      "Enter an element in list: 2\n",
      "Original List:  [1, 2, 2]\n",
      "List after removing duplicates: [1, 2]\n"
     ]
    }
   ],
   "source": [
    "l=[]\n",
    "n = int(input(\"Enter the length of the list: \"))\n",
    "for i in range(0,n) :\n",
    "    ele = int(input(\"Enter an element in list: \"))\n",
    "    l.append(ele)\n",
    "print(\"Original List: \",l)\n",
    "l1=set(l)\n",
    "print(\"List after removing duplicates:\",list(l1))"
   ]
  },
  {
   "cell_type": "markdown",
   "metadata": {},
   "source": [
    "# 8. Write a Python program to check a list is empty or not."
   ]
  },
  {
   "cell_type": "code",
   "execution_count": 10,
   "metadata": {},
   "outputs": [
    {
     "name": "stdout",
     "output_type": "stream",
     "text": [
      "Enter the length of the list: 4\n",
      "Enter an element in list: 1\n",
      "Enter an element in list: 2\n",
      "Enter an element in list: 3\n",
      "Enter an element in list: 4\n",
      "[1, 2, 3, 4]\n"
     ]
    }
   ],
   "source": [
    "l=[]\n",
    "n = int(input(\"Enter the length of the list: \"))\n",
    "for i in range(0,n) :\n",
    "    ele = int(input(\"Enter an element in list: \"))\n",
    "    l.append(ele)\n",
    "if len(l)==0:\n",
    "    print(\"List is empty\")\n",
    "else:\n",
    "    print(l)"
   ]
  },
  {
   "cell_type": "markdown",
   "metadata": {},
   "source": [
    "# 9.\tWrite a Python function that takes two lists and returns True if they have at least one common member."
   ]
  },
  {
   "cell_type": "code",
   "execution_count": 11,
   "metadata": {},
   "outputs": [
    {
     "name": "stdout",
     "output_type": "stream",
     "text": [
      "Enter the length of the list: 3\n",
      "Enter an element in list: 1\n",
      "Enter an element in list: 2\n",
      "Enter an element in list: 3\n",
      "Enter the length of the list: 4\n",
      "Enter an element in list: 1\n",
      "Enter an element in list: 2\n",
      "Enter an element in list: 3\n",
      "Enter an element in list: 4\n",
      "True\n"
     ]
    }
   ],
   "source": [
    "l1=[]\n",
    "n = int(input(\"Enter the length of the list: \"))\n",
    "for i in range(0,n) :\n",
    "    ele1 = int(input(\"Enter an element in list: \"))\n",
    "    l1.append(ele1)\n",
    "l2=[]\n",
    "m = int(input(\"Enter the length of the list: \"))\n",
    "for j in range(0,m) :\n",
    "    ele2 = int(input(\"Enter an element in list: \"))\n",
    "    l2.append(ele2)\n",
    "s1 = set(l1)\n",
    "s2 = set(l2)\n",
    "s3 = list(s1.intersection(s2))\n",
    "if (len(s3)!=0):\n",
    "    print(\"True\")\n",
    "else:\n",
    "    print(\"False\")\n"
   ]
  },
  {
   "cell_type": "code",
   "execution_count": null,
   "metadata": {},
   "outputs": [],
   "source": [
    "help(l1.count)"
   ]
  },
  {
   "cell_type": "markdown",
   "metadata": {},
   "source": [
    "# 10.\tWrite a Python program to print a specified list after removing the 0th, 4th and 5th elements. "
   ]
  },
  {
   "cell_type": "code",
   "execution_count": 12,
   "metadata": {},
   "outputs": [
    {
     "name": "stdout",
     "output_type": "stream",
     "text": [
      "List before removing: [1, 2, 3, 4, 5, 6, 7, 8, 9, 10]\n",
      "List after removing 0th,4th,5th elements:  [2, 3, 4, 5, 7, 9, 10]\n"
     ]
    }
   ],
   "source": [
    "l=[1,2,3,4,5,6,7,8,9,10]\n",
    "print(\"List before removing:\",l)\n",
    "l.pop(0)\n",
    "l.pop(4)\n",
    "l.pop(5)\n",
    "print(\"List after removing 0th,4th,5th elements: \",l)"
   ]
  },
  {
   "cell_type": "markdown",
   "metadata": {},
   "source": [
    "# 11.\tWrite a Python program to print the numbers of a specified list after removing even numbers from it."
   ]
  },
  {
   "cell_type": "code",
   "execution_count": 13,
   "metadata": {},
   "outputs": [
    {
     "name": "stdout",
     "output_type": "stream",
     "text": [
      "List before removing even numbers: [0, 1, 2, 3, 4, 5, 6, 7, 8, 9, 10]\n",
      "List after removing: even numbers [0, 2, 4, 6, 8, 10]\n"
     ]
    }
   ],
   "source": [
    "l=[0,1,2,3,4,5,6,7,8,9,10]\n",
    "print(\"List before removing even numbers:\",l)\n",
    "print(\"List after removing even numbers\",l[0:11:2])"
   ]
  },
  {
   "cell_type": "markdown",
   "metadata": {},
   "source": [
    "## 8)find the frequency of given digit in a number \n",
    "\n",
    "Ex: i/p - 999225222    i/p2 - 9 \n",
    "\n",
    "expected o/p - frequency of 9:3\n"
   ]
  },
  {
   "cell_type": "code",
   "execution_count": 1,
   "metadata": {},
   "outputs": [
    {
     "name": "stdout",
     "output_type": "stream",
     "text": [
      " 1 :  3\n",
      " 2 :  3\n",
      " 3 :  3\n",
      " 4 :  1\n"
     ]
    }
   ],
   "source": [
    "my_list=[1,2,3,1,2,3,1,2,3,4]\n",
    "freq = {} \n",
    "for item in my_list: \n",
    "        if (item in freq): \n",
    "            freq[item] += 1\n",
    "        else: \n",
    "            freq[item] = 1\n",
    "  \n",
    "for key, value in freq.items(): \n",
    "        print (\"% d : % d\"%(key, value)) "
   ]
  },
  {
   "cell_type": "code",
   "execution_count": null,
   "metadata": {},
   "outputs": [],
   "source": []
  }
 ],
 "metadata": {
  "kernelspec": {
   "display_name": "Python 3",
   "language": "python",
   "name": "python3"
  },
  "language_info": {
   "codemirror_mode": {
    "name": "ipython",
    "version": 3
   },
   "file_extension": ".py",
   "mimetype": "text/x-python",
   "name": "python",
   "nbconvert_exporter": "python",
   "pygments_lexer": "ipython3",
   "version": "3.7.6"
  }
 },
 "nbformat": 4,
 "nbformat_minor": 4
}
