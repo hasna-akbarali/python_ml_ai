{
 "cells": [
  {
   "cell_type": "markdown",
   "metadata": {},
   "source": [
    "# FOR LOOPS\n",
    "## 1) FIND OUT BIGGEST OF TWO NUMBER USING IF ELSE"
   ]
  },
  {
   "cell_type": "code",
   "execution_count": 1,
   "metadata": {},
   "outputs": [
    {
     "name": "stdout",
     "output_type": "stream",
     "text": [
      "Enter a number: 5\n",
      "Enter another number: 5\n",
      "5  is bigger than  5\n"
     ]
    }
   ],
   "source": [
    "a = int(input(\"Enter a number: \"))\n",
    "b = int(input(\"Enter another number: \"))\n",
    "if a > b:\n",
    "    print(a,\" is bigger than \",b)\n",
    "else :\n",
    "    print(b,\" is bigger than \",a)"
   ]
  },
  {
   "cell_type": "markdown",
   "metadata": {},
   "source": [
    "# 2)BIGGEST OF THREE NUMBERS USING IF ELSE IF STATEMENT."
   ]
  },
  {
   "cell_type": "code",
   "execution_count": 2,
   "metadata": {},
   "outputs": [
    {
     "name": "stdout",
     "output_type": "stream",
     "text": [
      "Enter a number: 2\n",
      "Enter another number: 3\n",
      "Enter another number: 4\n",
      "4  is bigger than 2 and 3\n"
     ]
    }
   ],
   "source": [
    "a = int(input(\"Enter a number: \"))\n",
    "b = int(input(\"Enter another number: \"))\n",
    "c = int(input(\"Enter another number: \"))\n",
    "if a > b and a > c:\n",
    "    print(a,\" is bigger than \",b,\"and\",c)\n",
    "elif b>a and b > c :\n",
    "    print(b,\" is bigger than \",a,\"and\",c)\n",
    "else :\n",
    "    print(c,\" is bigger than\",a,\"and\",b)"
   ]
  },
  {
   "cell_type": "markdown",
   "metadata": {},
   "source": [
    "# 3)FINDOUT EVEN AND ODD NUMBER USING IF ELSE"
   ]
  },
  {
   "cell_type": "code",
   "execution_count": 3,
   "metadata": {},
   "outputs": [
    {
     "name": "stdout",
     "output_type": "stream",
     "text": [
      "Enter a number:5\n",
      "5 is an odd number\n"
     ]
    }
   ],
   "source": [
    "n = int(input(\"Enter a number:\"))\n",
    "if n%2 == 0:\n",
    "    print(n,\"is an even number\")\n",
    "else :\n",
    "    print(n,\"is an odd number\")"
   ]
  },
  {
   "cell_type": "markdown",
   "metadata": {},
   "source": [
    "# 4)FIND OUT POSITIVE OR NEGATIVE NUMBER"
   ]
  },
  {
   "cell_type": "code",
   "execution_count": 4,
   "metadata": {},
   "outputs": [
    {
     "name": "stdout",
     "output_type": "stream",
     "text": [
      "Enter a number:6\n",
      "6 is a positive number\n"
     ]
    }
   ],
   "source": [
    "n = int(input(\"Enter a number:\"))\n",
    "if n > 0:\n",
    "    print(n,\"is a positive number\")\n",
    "else :\n",
    "    print(n,\"is a negative number\")"
   ]
  },
  {
   "cell_type": "markdown",
   "metadata": {},
   "source": [
    "# 5)FIND OUT GRADE OF 5 STUDENTS BETWEEN A GIVEN RANGE."
   ]
  },
  {
   "cell_type": "code",
   "execution_count": 5,
   "metadata": {},
   "outputs": [
    {
     "name": "stdout",
     "output_type": "stream",
     "text": [
      "Enter student marks: 2\n",
      "Enter student marks: 3\n",
      "Enter student marks: 3\n",
      "Enter student marks: 4\n",
      "Enter student marks: 5\n",
      "['2', '3', '3', '4', '5']\n",
      "F\n",
      "F\n",
      "F\n",
      "F\n",
      "F\n"
     ]
    }
   ],
   "source": [
    "l = []\n",
    "for i in range(0,5):\n",
    "    ele = input(\"Enter student marks: \")\n",
    "    l.append(ele)\n",
    "print(l)\n",
    "for j in l:\n",
    "    if j in range(89,100):\n",
    "              print(\"S+\")\n",
    "    elif j in range(79,90):\n",
    "              print(\"S\")\n",
    "    elif j in range(70,80):\n",
    "              print(\"A\")\n",
    "    elif j in range(60,70):\n",
    "              print(\"B\")\n",
    "    elif j in range(50,60):\n",
    "              print(\"C\")\n",
    "    elif j in range(40,50):\n",
    "              print(\"D\")\n",
    "    elif j in range(30,40):\n",
    "              print(\"E\")\n",
    "    else:\n",
    "              print(\"F\")\n",
    "    "
   ]
  },
  {
   "cell_type": "code",
   "execution_count": 6,
   "metadata": {},
   "outputs": [
    {
     "name": "stdout",
     "output_type": "stream",
     "text": [
      "Enter student marks: 6\n",
      "Enter student marks: \n"
     ]
    },
    {
     "ename": "ValueError",
     "evalue": "invalid literal for int() with base 10: ''",
     "output_type": "error",
     "traceback": [
      "\u001b[1;31m---------------------------------------------------------------------------\u001b[0m",
      "\u001b[1;31mValueError\u001b[0m                                Traceback (most recent call last)",
      "\u001b[1;32m<ipython-input-6-1c9bdc2601f3>\u001b[0m in \u001b[0;36m<module>\u001b[1;34m\u001b[0m\n\u001b[0;32m      1\u001b[0m \u001b[0ml\u001b[0m \u001b[1;33m=\u001b[0m \u001b[1;33m[\u001b[0m\u001b[1;33m]\u001b[0m\u001b[1;33m\u001b[0m\u001b[1;33m\u001b[0m\u001b[0m\n\u001b[0;32m      2\u001b[0m \u001b[1;32mfor\u001b[0m \u001b[0mi\u001b[0m \u001b[1;32min\u001b[0m \u001b[0mrange\u001b[0m\u001b[1;33m(\u001b[0m\u001b[1;36m0\u001b[0m\u001b[1;33m,\u001b[0m\u001b[1;36m5\u001b[0m\u001b[1;33m)\u001b[0m\u001b[1;33m:\u001b[0m\u001b[1;33m\u001b[0m\u001b[1;33m\u001b[0m\u001b[0m\n\u001b[1;32m----> 3\u001b[1;33m     \u001b[0mele\u001b[0m \u001b[1;33m=\u001b[0m \u001b[0mint\u001b[0m\u001b[1;33m(\u001b[0m\u001b[0minput\u001b[0m\u001b[1;33m(\u001b[0m\u001b[1;34m\"Enter student marks: \"\u001b[0m\u001b[1;33m)\u001b[0m\u001b[1;33m)\u001b[0m\u001b[1;33m\u001b[0m\u001b[1;33m\u001b[0m\u001b[0m\n\u001b[0m\u001b[0;32m      4\u001b[0m     \u001b[0ml\u001b[0m\u001b[1;33m.\u001b[0m\u001b[0mappend\u001b[0m\u001b[1;33m(\u001b[0m\u001b[0mele\u001b[0m\u001b[1;33m)\u001b[0m\u001b[1;33m\u001b[0m\u001b[1;33m\u001b[0m\u001b[0m\n\u001b[0;32m      5\u001b[0m \u001b[1;32mfor\u001b[0m \u001b[0mj\u001b[0m \u001b[1;32min\u001b[0m \u001b[0ml\u001b[0m\u001b[1;33m:\u001b[0m\u001b[1;33m\u001b[0m\u001b[1;33m\u001b[0m\u001b[0m\n",
      "\u001b[1;31mValueError\u001b[0m: invalid literal for int() with base 10: ''"
     ]
    }
   ],
   "source": [
    "l = []\n",
    "for i in range(0,5):\n",
    "    ele = int(input(\"Enter student marks: \"))\n",
    "    l.append(ele)\n",
    "for j in l:\n",
    "    if j>=90 and j<=100:\n",
    "              print(j,\" :S+\")\n",
    "    elif j>=80 and j<90:\n",
    "              print(j,\" :S\")\n",
    "    elif j>=70 and j<80:\n",
    "              print(j,\" :A\")\n",
    "    elif j>=60 and j<70:\n",
    "              print(j,\" :B\")\n",
    "    elif j>=50 and j<60:\n",
    "              print(j,\" :C\")\n",
    "    elif j>=40 and j<50:\n",
    "              print(j,\" :D\")\n",
    "    elif j>=30 and j<40:\n",
    "              print(j,\" :E\")\n",
    "    else:\n",
    "              print(j,\" :F\")"
   ]
  },
  {
   "cell_type": "markdown",
   "metadata": {},
   "source": [
    "# WHILE LOOPS\n",
    "\n",
    "## 1) FIND OUT GIVEN NUMBER IS PRIME OR NOT."
   ]
  },
  {
   "cell_type": "code",
   "execution_count": 12,
   "metadata": {},
   "outputs": [
    {
     "name": "stdout",
     "output_type": "stream",
     "text": [
      "Enter a number: 24\n",
      "24 is not a prime number\n"
     ]
    }
   ],
   "source": [
    "n = int(input(\"Enter a number: \"))\n",
    "i = 2\n",
    "count = 0\n",
    "while i < n :\n",
    "    if n%i == 0:\n",
    "        count = 1\n",
    "        print(n,\"is not a prime number\")\n",
    "        break\n",
    "    i += 1\n",
    "if count == 0:\n",
    "    print(n,\" is a prime number\")"
   ]
  },
  {
   "cell_type": "markdown",
   "metadata": {},
   "source": [
    "## 2)FIND OUT FACTORIAL OF A GIVEN NUMBER."
   ]
  },
  {
   "cell_type": "code",
   "execution_count": 13,
   "metadata": {},
   "outputs": [
    {
     "name": "stdout",
     "output_type": "stream",
     "text": [
      "Enter a number: 3\n",
      "6\n"
     ]
    }
   ],
   "source": [
    "n = int(input(\"Enter a number: \"))\n",
    "fact = 1\n",
    "i = 1\n",
    "while i<=n:\n",
    "    fact = fact*i\n",
    "    i += 1\n",
    "print(fact)"
   ]
  },
  {
   "cell_type": "markdown",
   "metadata": {},
   "source": [
    "## 3)FIND OUT GIVEN NUMBER IS ARMSTRONG OR NOT."
   ]
  },
  {
   "cell_type": "code",
   "execution_count": 16,
   "metadata": {},
   "outputs": [
    {
     "name": "stdout",
     "output_type": "stream",
     "text": [
      "Enter a number: 153\n",
      "153\n",
      "It is an armstrong\n"
     ]
    }
   ],
   "source": [
    "n = input(\"Enter a number: \")\n",
    "length = len(n)\n",
    "sum1 = 0\n",
    "count = len(n)\n",
    "i = 0\n",
    "while count > 0:\n",
    "    new_n = int(n[i])\n",
    "    i += 1\n",
    "    sum1 = sum1 + new_n**length\n",
    "    count = count - 1\n",
    "print(sum1)\n",
    "if int(n) == sum1 :\n",
    "    print(\"It is an armstrong\")\n",
    "else :\n",
    "    print(\"Not an armstrong\")"
   ]
  },
  {
   "cell_type": "markdown",
   "metadata": {},
   "source": [
    "## 4)FIND OUT A GIVEN NUMBER IS PALINDROM OR NOT"
   ]
  },
  {
   "cell_type": "code",
   "execution_count": 1,
   "metadata": {},
   "outputs": [
    {
     "name": "stdout",
     "output_type": "stream",
     "text": [
      "Enter a number: 123\n",
      "123 is not a palindrome\n"
     ]
    }
   ],
   "source": [
    "n = int(input(\"Enter a number: \"))\n",
    "org_n = n\n",
    "temp = 0\n",
    "rev_n = 0\n",
    "while n>0 :\n",
    "    rev_n = int(n%10)\n",
    "    temp = temp*10 + rev_n\n",
    "    n = int(n/10)\n",
    "if org_n == temp:\n",
    "    print(org_n,\"is a palindrome\")\n",
    "else:\n",
    "    print(org_n,\"is not a palindrome\")"
   ]
  },
  {
   "cell_type": "markdown",
   "metadata": {},
   "source": [
    "## 5)FIND OUT FIBONACCI SERIES UPTO N NUMBERS."
   ]
  },
  {
   "cell_type": "code",
   "execution_count": 17,
   "metadata": {},
   "outputs": [
    {
     "name": "stdout",
     "output_type": "stream",
     "text": [
      "Enter a number: 4\n",
      "0\n",
      "1\n",
      "1\n",
      "2\n",
      "3\n"
     ]
    }
   ],
   "source": [
    "n = int(input(\"Enter a number: \"))\n",
    "first = 0\n",
    "second = 1\n",
    "third = 0 \n",
    "count = 0 \n",
    "while n >= count:\n",
    "    third = first + second\n",
    "    count = count + 1\n",
    "    print(first)\n",
    "    first = second \n",
    "    second = third\n",
    "    "
   ]
  },
  {
   "cell_type": "markdown",
   "metadata": {},
   "source": [
    "## 6)W.A.P. TO SUMMATION OF DIGITS OF A GIVEN NUM."
   ]
  },
  {
   "cell_type": "code",
   "execution_count": 11,
   "metadata": {},
   "outputs": [
    {
     "name": "stdout",
     "output_type": "stream",
     "text": [
      "Enter a number: 4\n",
      "10\n"
     ]
    }
   ],
   "source": [
    "n = int(input(\"Enter a number: \"))\n",
    "sum = 0\n",
    "while n > 0:\n",
    "    sum = sum+n\n",
    "    n -= 1\n",
    "print(sum)"
   ]
  },
  {
   "cell_type": "markdown",
   "metadata": {},
   "source": [
    "## 7)W.A.P. FOR MULTIPLICATION OF DIGITS OF A GIVEN NUMBER."
   ]
  },
  {
   "cell_type": "code",
   "execution_count": 13,
   "metadata": {},
   "outputs": [
    {
     "name": "stdout",
     "output_type": "stream",
     "text": [
      "Enter a number: 4\n",
      "24\n"
     ]
    }
   ],
   "source": [
    "n = int(input(\"Enter a number: \"))\n",
    "prod = 1\n",
    "while n > 0:\n",
    "    prod = prod*n\n",
    "    n -= 1\n",
    "print(prod)"
   ]
  },
  {
   "cell_type": "markdown",
   "metadata": {},
   "source": [
    "## 8)FIND OUT GIVEN NUMBER IS HOW MANY TIMES REPEATS IN A NUMBER."
   ]
  },
  {
   "cell_type": "code",
   "execution_count": null,
   "metadata": {},
   "outputs": [],
   "source": []
  },
  {
   "cell_type": "code",
   "execution_count": null,
   "metadata": {},
   "outputs": [],
   "source": []
  }
 ],
 "metadata": {
  "kernelspec": {
   "display_name": "Python 3",
   "language": "python",
   "name": "python3"
  },
  "language_info": {
   "codemirror_mode": {
    "name": "ipython",
    "version": 3
   },
   "file_extension": ".py",
   "mimetype": "text/x-python",
   "name": "python",
   "nbconvert_exporter": "python",
   "pygments_lexer": "ipython3",
   "version": "3.7.6"
  }
 },
 "nbformat": 4,
 "nbformat_minor": 4
}
