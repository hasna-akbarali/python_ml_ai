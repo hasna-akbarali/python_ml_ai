{
 "cells": [
  {
   "cell_type": "markdown",
   "metadata": {},
   "source": [
    "# 1.\tWrite a Python program to iterate over dictionaries using for loops."
   ]
  },
  {
   "cell_type": "code",
   "execution_count": 1,
   "metadata": {},
   "outputs": [
    {
     "name": "stdout",
     "output_type": "stream",
     "text": [
      "key : value1\n",
      "key2 : value2\n",
      "key3 : value3\n"
     ]
    }
   ],
   "source": [
    "d1 = {\"key\":\"value1\",\"key2\":\"value2\",\"key3\":\"value3\"}\n",
    "for item,value in d1.items():\n",
    "    print(item,\":\",value)"
   ]
  },
  {
   "cell_type": "markdown",
   "metadata": {},
   "source": [
    "# 2.\tWrite a Python program to sum all the items in a dictionary."
   ]
  },
  {
   "cell_type": "code",
   "execution_count": 3,
   "metadata": {},
   "outputs": [
    {
     "name": "stdout",
     "output_type": "stream",
     "text": [
      "6\n"
     ]
    }
   ],
   "source": [
    "d1 = {\"key\":\"1\",\"key2\":\"2\",\"key3\":\"3\"}\n",
    "sum = 0\n",
    "for item,value in d1.items():\n",
    "    sum+= int(value)\n",
    "print(sum)"
   ]
  },
  {
   "cell_type": "markdown",
   "metadata": {},
   "source": [
    " # 3.\tWrite a Python program to multiply all the items in a dictionary."
   ]
  },
  {
   "cell_type": "code",
   "execution_count": 5,
   "metadata": {},
   "outputs": [
    {
     "name": "stdout",
     "output_type": "stream",
     "text": [
      "6\n"
     ]
    }
   ],
   "source": [
    "d1 = {\"key\":\"1\",\"key2\":\"2\",\"key3\":\"3\"}\n",
    "prod = 1\n",
    "for item,value in d1.items():\n",
    "    prod*= int(value)\n",
    "print(prod)"
   ]
  },
  {
   "cell_type": "markdown",
   "metadata": {},
   "source": [
    "# 4.\tWrite a Python program to remove a key from a dictionary."
   ]
  },
  {
   "cell_type": "code",
   "execution_count": 3,
   "metadata": {},
   "outputs": [
    {
     "name": "stdout",
     "output_type": "stream",
     "text": [
      "Which key do you want to remove?key1\n",
      "{'key2': '2', 'key3': '3'}\n"
     ]
    }
   ],
   "source": [
    "d1 = {\"key1\":\"1\",\"key2\":\"2\",\"key3\":\"3\"}\n",
    "key=input(\"Which key do you want to remove?\")\n",
    "del d1[key]\n",
    "print(d1)"
   ]
  },
  {
   "cell_type": "code",
   "execution_count": 12,
   "metadata": {},
   "outputs": [
    {
     "name": "stdout",
     "output_type": "stream",
     "text": [
      "Help on built-in function pop:\n",
      "\n",
      "pop(...) method of builtins.dict instance\n",
      "    D.pop(k[,d]) -> v, remove specified key and return the corresponding value.\n",
      "    If key is not found, d is returned if given, otherwise KeyError is raised\n",
      "\n"
     ]
    }
   ],
   "source": [
    "help(d1.pop)"
   ]
  },
  {
   "cell_type": "markdown",
   "metadata": {},
   "source": [
    "# 5.\tWrite a Python program to get the maximum and minimum value in a dictionary."
   ]
  },
  {
   "cell_type": "code",
   "execution_count": 11,
   "metadata": {},
   "outputs": [
    {
     "name": "stdout",
     "output_type": "stream",
     "text": [
      "Maximum:  4  and Minimum:  1\n"
     ]
    }
   ],
   "source": [
    "d2 = {\"key\":\"1\",\"key2\":\"2\",\"key3\":\"3\",\"key4\":\"4\"}\n",
    "l = []\n",
    "for values in d2.values():\n",
    "    l.append(values)\n",
    "l.sort()\n",
    "print(\"Maximum: \",l[-1],\" and Minimum: \",l[0])"
   ]
  },
  {
   "cell_type": "markdown",
   "metadata": {},
   "source": [
    "# 6.\tWrite a Python program to remove duplicates from Dictionary."
   ]
  },
  {
   "cell_type": "code",
   "execution_count": 20,
   "metadata": {},
   "outputs": [
    {
     "name": "stdout",
     "output_type": "stream",
     "text": [
      "Before removing duplicates: {'key': '1', 'key2': '2', 'key3': '3', 'key4': '4', 'key5': '4'}\n",
      "After removing duplicates: {'key': '1', 'key2': '2', 'key3': '3', 'key4': '4'}\n"
     ]
    }
   ],
   "source": [
    "d2 = {\"key\":\"1\",\"key2\":\"2\",\"key3\":\"3\",\"key4\":\"4\",\"key5\":\"4\"}\n",
    "l = []\n",
    "print(\"Before removing duplicates:\",d2)\n",
    "new_d2 = dict()\n",
    "for keys,values in d2.items():\n",
    "    if values not in l:\n",
    "        l.append(values)\n",
    "        new_d2[keys] = values\n",
    "print(\"After removing duplicates:\",new_d2)"
   ]
  },
  {
   "cell_type": "markdown",
   "metadata": {},
   "source": [
    "# 7.\tWrite a Python program to check a dictionary is empty or not."
   ]
  },
  {
   "cell_type": "code",
   "execution_count": 2,
   "metadata": {},
   "outputs": [
    {
     "name": "stdout",
     "output_type": "stream",
     "text": [
      "Dictionary is not empty\n"
     ]
    }
   ],
   "source": [
    "d = {'key1':'value1'}\n",
    "if d == {} :\n",
    "    print(\"Dictionary is empty\")\n",
    "else:\n",
    "    print(\"Dictionary is not empty\")"
   ]
  },
  {
   "cell_type": "markdown",
   "metadata": {},
   "source": [
    "# 8.\tWrite a Python program to find the highest 3 values in a dictionary."
   ]
  },
  {
   "cell_type": "code",
   "execution_count": 34,
   "metadata": {},
   "outputs": [
    {
     "name": "stdout",
     "output_type": "stream",
     "text": [
      "Highest three values:  ['4', '3', '2']\n"
     ]
    }
   ],
   "source": [
    "d2 = {\"key\":\"1\",\"key2\":\"2\",\"key3\":\"3\",\"key4\":\"4\"}\n",
    "l = []\n",
    "for values in d2.values():\n",
    "    l.append(values)\n",
    "l.sort()\n",
    "print(\"Highest three values: \",l[3:0:-1])"
   ]
  },
  {
   "cell_type": "markdown",
   "metadata": {},
   "source": [
    "# 9. Write a Python program to print a dictionary line by line."
   ]
  },
  {
   "cell_type": "code",
   "execution_count": 36,
   "metadata": {},
   "outputs": [
    {
     "name": "stdout",
     "output_type": "stream",
     "text": [
      "key1 : 1\n",
      "key2 : 2\n",
      "key3 : 3\n",
      "key4 : 4\n"
     ]
    }
   ],
   "source": [
    "d2 = {\"key1\":\"1\",\"key2\":\"2\",\"key3\":\"3\",\"key4\":\"4\"}\n",
    "for keys,values in d2.items():\n",
    "    print(keys,\":\",values)"
   ]
  },
  {
   "cell_type": "markdown",
   "metadata": {},
   "source": [
    "# 10.\tWrite a Python program to count number of items in a dictionary value that is a list."
   ]
  },
  {
   "cell_type": "code",
   "execution_count": 22,
   "metadata": {},
   "outputs": [
    {
     "name": "stdout",
     "output_type": "stream",
     "text": [
      "The number of items in a dictionary value that is a list : 2\n"
     ]
    }
   ],
   "source": [
    "d = {'key1': [1,2,3,4],'key2':1,'key3':[2,3,4,5]}\n",
    "keys = d.keys()\n",
    "count = 0\n",
    "for key in keys:\n",
    "    if isinstance(d.get(key),list):\n",
    "        count = count+1\n",
    "print(\"The number of items in a dictionary value that is a list :\",count)"
   ]
  },
  {
   "cell_type": "code",
   "execution_count": null,
   "metadata": {},
   "outputs": [],
   "source": []
  }
 ],
 "metadata": {
  "kernelspec": {
   "display_name": "Python 3",
   "language": "python",
   "name": "python3"
  },
  "language_info": {
   "codemirror_mode": {
    "name": "ipython",
    "version": 3
   },
   "file_extension": ".py",
   "mimetype": "text/x-python",
   "name": "python",
   "nbconvert_exporter": "python",
   "pygments_lexer": "ipython3",
   "version": "3.7.6"
  }
 },
 "nbformat": 4,
 "nbformat_minor": 4
}
