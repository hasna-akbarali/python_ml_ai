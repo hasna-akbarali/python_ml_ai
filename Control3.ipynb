{
 "cells": [
  {
   "cell_type": "markdown",
   "metadata": {},
   "source": [
    "## 1) FIND OUT GIVEN NUMBER IS PRIME OR NOT."
   ]
  },
  {
   "cell_type": "code",
   "execution_count": null,
   "metadata": {},
   "outputs": [],
   "source": [
    "num = int(input(\"Enter a number: \"))\n",
    "if num > 1: \n",
    "    for i in range(2, num):  \n",
    "        if (num % i) == 0: \n",
    "            print(num, \"is not a prime number\") \n",
    "            break\n",
    "        else: \n",
    "            print(num, \"is a prime number\")\n",
    "            break\n",
    "else: \n",
    "    print(num, \"is not a prime number\") \n"
   ]
  },
  {
   "cell_type": "markdown",
   "metadata": {},
   "source": [
    "## 2)FIND OUT FACTORIAL OF A GIVEN NUMBER."
   ]
  },
  {
   "cell_type": "code",
   "execution_count": null,
   "metadata": {},
   "outputs": [],
   "source": [
    "n = int(input(\"Enter a number: \"))\n",
    "fact = 1\n",
    "for i in range(1, n + 1):\n",
    "    fact = fact * i\n",
    "print(\"Factorial of \", n, \" is \", fact)"
   ]
  },
  {
   "cell_type": "markdown",
   "metadata": {},
   "source": [
    "## 3)FIND OUT GIVEN NUMBER IS ARMSTRONG OR NOT."
   ]
  },
  {
   "cell_type": "code",
   "execution_count": null,
   "metadata": {},
   "outputs": [],
   "source": [
    "n = input(\"Enter a number: \")\n",
    "length = len(n)\n",
    "sum1 = 0\n",
    "for i in n:\n",
    "     sum1 += int(i)**length\n",
    "if sum1 == int(n):\n",
    "    print(n,\"is an Armstrong number\")\n",
    "else :\n",
    "    print(n,\"is not an Armstrong number\")"
   ]
  },
  {
   "cell_type": "markdown",
   "metadata": {},
   "source": [
    "## 4)FIND OUT A GIVEN NUMBER IS PALINDROM OR NOT\n"
   ]
  },
  {
   "cell_type": "code",
   "execution_count": 17,
   "metadata": {},
   "outputs": [
    {
     "name": "stdout",
     "output_type": "stream",
     "text": [
      "Enter a number: 10\n",
      "Not a Palindrome\n"
     ]
    }
   ],
   "source": [
    "n = input(\"Enter a number: \")\n",
    "rev_n = n[::-1]\n",
    "count = 0\n",
    "length = len(n)\n",
    "for i in n:\n",
    "    index = n.index(i)\n",
    "    if i == rev_n[index] :\n",
    "        count +=1\n",
    "if count >= len(n):\n",
    "    print(\"Palindrome\")\n",
    "else :\n",
    "    print(\"Not a Palindrome\")\n",
    "        "
   ]
  },
  {
   "cell_type": "code",
   "execution_count": 10,
   "metadata": {},
   "outputs": [
    {
     "ename": "NameError",
     "evalue": "name 'index' is not defined",
     "output_type": "error",
     "traceback": [
      "\u001b[1;31m---------------------------------------------------------------------------\u001b[0m",
      "\u001b[1;31mNameError\u001b[0m                                 Traceback (most recent call last)",
      "\u001b[1;32m<ipython-input-10-b830073c5738>\u001b[0m in \u001b[0;36m<module>\u001b[1;34m\u001b[0m\n\u001b[1;32m----> 1\u001b[1;33m \u001b[0mhelp\u001b[0m\u001b[1;33m(\u001b[0m\u001b[0mindex\u001b[0m\u001b[1;33m(\u001b[0m\u001b[1;33m)\u001b[0m\u001b[1;33m)\u001b[0m\u001b[1;33m\u001b[0m\u001b[1;33m\u001b[0m\u001b[0m\n\u001b[0m",
      "\u001b[1;31mNameError\u001b[0m: name 'index' is not defined"
     ]
    }
   ],
   "source": [
    "help(index())"
   ]
  },
  {
   "cell_type": "markdown",
   "metadata": {},
   "source": [
    "## 5)FIND OUT FIBONACCI SERIES UPTO N NUMBERS."
   ]
  },
  {
   "cell_type": "code",
   "execution_count": null,
   "metadata": {},
   "outputs": [],
   "source": [
    "n = int(input(\"Enter a number: \"))\n",
    "l = [0,1]\n",
    "for i in range(0,n):\n",
    "    l.append(l[i]+l[i+1])\n",
    "print(l[:n])    "
   ]
  },
  {
   "cell_type": "markdown",
   "metadata": {},
   "source": [
    "## 6)W.A.P. TO SUMMATION OF DIGITS OF A GIVEN NUM."
   ]
  },
  {
   "cell_type": "code",
   "execution_count": null,
   "metadata": {},
   "outputs": [],
   "source": [
    "number = input(\"Enter a number\")\n",
    "sum1 = 0\n",
    "for i in number:\n",
    "    sum1 += int(i)\n",
    "print(sum1)\n"
   ]
  },
  {
   "cell_type": "markdown",
   "metadata": {},
   "source": [
    "## 7)W.A.P. FOR MULTIPLICATION OF DIGITS OF A GIVEN NUMBER."
   ]
  },
  {
   "cell_type": "code",
   "execution_count": null,
   "metadata": {},
   "outputs": [],
   "source": [
    "number = input(\"Enter a number\")\n",
    "prod1 = 1\n",
    "for i in number:\n",
    "    prod1 *= int(i)\n",
    "print(prod1)\n"
   ]
  },
  {
   "cell_type": "markdown",
   "metadata": {},
   "source": [
    "## 8)FIND OUT GIVEN NUMBER IS HOW MANY TIMES REPEATS IN A NUMBER."
   ]
  },
  {
   "cell_type": "code",
   "execution_count": null,
   "metadata": {},
   "outputs": [],
   "source": [
    "number = input(\"Enter a number: \")\n",
    "d = {}\n",
    "count = 0\n",
    "for i in number:\n",
    "    if i not in d.keys():\n",
    "        d[i] = 1\n",
    "    else:\n",
    "        d[i] += 1\n",
    "print(d)"
   ]
  },
  {
   "cell_type": "markdown",
   "metadata": {},
   "source": [
    "## 1)FIND OUT PRIME NUMBER UPTO N NUMBERS"
   ]
  },
  {
   "cell_type": "code",
   "execution_count": null,
   "metadata": {},
   "outputs": [],
   "source": [
    "num = int(input(\"Enter a number: \"))\n",
    "l = []\n",
    "for i in range(0,num+1):  \n",
    "    if i > 1:  \n",
    "        for j in range(2,i):  \n",
    "            if (num % j) == 0:  \n",
    "                break  \n",
    "        else:\n",
    "            l.append(i)\n",
    "print(\"The prime numbers between 0 and\",i,\"are\",l) "
   ]
  },
  {
   "cell_type": "markdown",
   "metadata": {},
   "source": [
    "## 2)FIND OUT FACTORIAL OF A GIVEN NUM UPTO N NUM."
   ]
  },
  {
   "cell_type": "code",
   "execution_count": null,
   "metadata": {},
   "outputs": [],
   "source": [
    "n = int(input(\"Enter a number:\"))\n",
    "fact = 1\n",
    "for i in range(1,n+1):\n",
    "    fact = fact*i\n",
    "print(fact)"
   ]
  },
  {
   "cell_type": "markdown",
   "metadata": {},
   "source": [
    "## 3)FIND OUT THE LARGEST NUMBER IN 10 NUMBERS."
   ]
  },
  {
   "cell_type": "code",
   "execution_count": null,
   "metadata": {},
   "outputs": [],
   "source": [
    "l = []\n",
    "for i in range(0,10):\n",
    "    ele = int(input(\"Enter a number: \"))\n",
    "    l.append(ele)\n",
    "l.sort()\n",
    "print(l[9])"
   ]
  },
  {
   "cell_type": "markdown",
   "metadata": {},
   "source": [
    "4)    *\n",
    "      *     *\n",
    "      *     *   *\n"
   ]
  },
  {
   "cell_type": "code",
   "execution_count": null,
   "metadata": {},
   "outputs": [],
   "source": [
    "n = int(input(\"Enter the number of rows: \"))\n",
    "for x in range(0,n):\n",
    "    for y in range(0,x+1):\n",
    "        print(\"*\",end=\" \")\n",
    "    print(end=\"\\n\")\n"
   ]
  },
  {
   "cell_type": "markdown",
   "metadata": {},
   "source": [
    "5) *    *     *\n",
    "   *     *\n",
    "   *\n"
   ]
  },
  {
   "cell_type": "code",
   "execution_count": null,
   "metadata": {},
   "outputs": [],
   "source": [
    "n = int(input(\"Enter the number of rows: \"))\n",
    "for x in range(n,1,-1):\n",
    "    for y in range(x-1,0,-1):\n",
    "        print(\"*\",end=\" \")\n",
    "    print(end=\"\\n\")\n"
   ]
  },
  {
   "cell_type": "markdown",
   "metadata": {},
   "source": [
    "6)   *\n",
    "     *    *\n",
    "     *    *    *\n",
    "     *    *    *    *\n",
    "     *    *    *\n",
    "     *    *\n",
    "     *\n"
   ]
  },
  {
   "cell_type": "code",
   "execution_count": null,
   "metadata": {},
   "outputs": [],
   "source": [
    "n = int(input(\"Enter the number of rows: \"))\n",
    "for x in range(0,n):\n",
    "    for y in range(0,x+1):\n",
    "        print(\"*\",end=\" \")\n",
    "    print(end=\"\\n\")\n",
    "for x in range(n,1,-1):\n",
    "    for y in range(x-1,0,-1):\n",
    "        print(\"*\",end=\" \")\n",
    "    print(end=\"\\n\")\n"
   ]
  },
  {
   "cell_type": "markdown",
   "metadata": {},
   "source": [
    "## 7)INPUT A NUMBER AND FINDOUT THE CUBE UPTO THAT NUMBER."
   ]
  },
  {
   "cell_type": "code",
   "execution_count": null,
   "metadata": {},
   "outputs": [],
   "source": [
    "number = input(\"Enter a number\")\n",
    "for i in number:\n",
    "    new_i = int(i)\n",
    "    print(new_i*new_i*new_i)"
   ]
  },
  {
   "cell_type": "code",
   "execution_count": null,
   "metadata": {},
   "outputs": [],
   "source": []
  }
 ],
 "metadata": {
  "kernelspec": {
   "display_name": "Python 3",
   "language": "python",
   "name": "python3"
  },
  "language_info": {
   "codemirror_mode": {
    "name": "ipython",
    "version": 3
   },
   "file_extension": ".py",
   "mimetype": "text/x-python",
   "name": "python",
   "nbconvert_exporter": "python",
   "pygments_lexer": "ipython3",
   "version": "3.7.6"
  }
 },
 "nbformat": 4,
 "nbformat_minor": 4
}
