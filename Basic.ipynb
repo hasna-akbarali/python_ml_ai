{
 "cells": [
  {
   "cell_type": "markdown",
   "metadata": {},
   "source": [
    "# 1. Arithmetic operators with integer class "
   ]
  },
  {
   "cell_type": "code",
   "execution_count": 1,
   "metadata": {},
   "outputs": [
    {
     "name": "stdout",
     "output_type": "stream",
     "text": [
      "8\n",
      "-2\n",
      "15\n",
      "0.6\n",
      "3\n",
      "243\n",
      "0\n"
     ]
    }
   ],
   "source": [
    "x = 3\n",
    "y = 5\n",
    "print(x+y)\n",
    "print(x-y)\n",
    "print(x*y)\n",
    "print(x/y)\n",
    "print(x%y)\n",
    "print(x**y)\n",
    "print(x//y)"
   ]
  },
  {
   "cell_type": "markdown",
   "metadata": {},
   "source": [
    "# Comparison Operators with integer class"
   ]
  },
  {
   "cell_type": "code",
   "execution_count": 2,
   "metadata": {},
   "outputs": [
    {
     "name": "stdout",
     "output_type": "stream",
     "text": [
      "True\n",
      "False\n",
      "False\n",
      "False\n",
      "True\n",
      "True\n"
     ]
    }
   ],
   "source": [
    "x = 3\n",
    "y = 3\n",
    "print(x==y)\n",
    "print(x!=y)\n",
    "print(x>y)\n",
    "print(x<y)\n",
    "print(x>=y)\n",
    "print(x<=y)"
   ]
  },
  {
   "cell_type": "markdown",
   "metadata": {},
   "source": [
    "# 2. Write python program which accepts the radius of a circle from the user and computes the area\n"
   ]
  },
  {
   "cell_type": "code",
   "execution_count": 3,
   "metadata": {},
   "outputs": [
    {
     "name": "stdout",
     "output_type": "stream",
     "text": [
      "Enter a radius 4\n",
      "Area of a circle with radius 4 is 50.24\n"
     ]
    }
   ],
   "source": [
    "radius = int(input(\"Enter a radius \"))\n",
    "area = 3.14 * radius**2\n",
    "print(\"Area of a circle with radius\",radius,\"is\",area)\n"
   ]
  },
  {
   "cell_type": "markdown",
   "metadata": {},
   "source": [
    "# 3. Write a Python program which accepts the user's first and last name and print them in reverse order with a space between them. "
   ]
  },
  {
   "cell_type": "code",
   "execution_count": 4,
   "metadata": {},
   "outputs": [
    {
     "name": "stdout",
     "output_type": "stream",
     "text": [
      "Enter your first name hasna\n",
      "Enter your last name akbar\n",
      "akbar hasna\n"
     ]
    }
   ],
   "source": [
    "first_name = input(\"Enter your first name \")\n",
    "last_name = input(\"Enter your last name \")\n",
    "print(last_name,first_name)"
   ]
  },
  {
   "cell_type": "code",
   "execution_count": 5,
   "metadata": {},
   "outputs": [
    {
     "name": "stdout",
     "output_type": "stream",
     "text": [
      "Enter your first name hasna\n",
      "Enter your last name akbar\n",
      "rabka ansah\n"
     ]
    }
   ],
   "source": [
    "first_name = input(\"Enter your first name \")\n",
    "last_name = input(\"Enter your last name \")\n",
    "name = first_name+\" \"+last_name\n",
    "print(name[::-1])"
   ]
  },
  {
   "cell_type": "markdown",
   "metadata": {},
   "source": [
    "# 4.\tWrite a Python program that accepts an integer (n) and computes the value of n+nn+nnn"
   ]
  },
  {
   "cell_type": "code",
   "execution_count": 6,
   "metadata": {},
   "outputs": [
    {
     "name": "stdout",
     "output_type": "stream",
     "text": [
      "Enter an integer 2\n",
      "Value of n+nn+nnn = 14\n"
     ]
    }
   ],
   "source": [
    "n = int(input(\"Enter an integer \"))\n",
    "sum = n+(n*n)+(n*n*n)\n",
    "print(\"Value of n+nn+nnn =\",sum)"
   ]
  },
  {
   "cell_type": "markdown",
   "metadata": {},
   "source": [
    "# 5.\tWrite a Python program to find whether a given number (accept from the user) is even or odd, print out an appropriate message to the user."
   ]
  },
  {
   "cell_type": "code",
   "execution_count": 9,
   "metadata": {},
   "outputs": [
    {
     "name": "stdout",
     "output_type": "stream",
     "text": [
      "Enter a number:3\n",
      "Odd\n"
     ]
    }
   ],
   "source": [
    "number = int(input(\"Enter a number:\"))\n",
    "if number%2==0:\n",
    "    print(\"Even\")\n",
    "else :\n",
    "    print(\"Odd\")"
   ]
  },
  {
   "cell_type": "markdown",
   "metadata": {},
   "source": [
    "# 6.\tWrite a Python program that will accept the base and height of a triangle and compute the area."
   ]
  },
  {
   "cell_type": "code",
   "execution_count": null,
   "metadata": {},
   "outputs": [],
   "source": [
    "base = int(input(\"Enter base of a triangle \"))\n",
    "height = int(input(\"Enter height of a triangle \"))\n",
    "area= 0.5*base*height\n",
    "print(\"Area of the triangle is\",area)"
   ]
  },
  {
   "cell_type": "markdown",
   "metadata": {},
   "source": [
    "# 7.\tWrite a Python program to convert the distance (in feet) to inches, yards, and miles."
   ]
  },
  {
   "cell_type": "code",
   "execution_count": null,
   "metadata": {},
   "outputs": [],
   "source": [
    "dist_ft = int(input(\"Enter the distance in feet\"))\n",
    "dist_in = dist_ft*12\n",
    "dist_ya = dist_ft / 3\n",
    "dist_mi = dist_ft / 5280\n",
    "print(\"The distance in inches is \",dist_in,\"inches.\")\n",
    "print(\"The distance in yards is \",dist_ya,\"yards.\")\n",
    "print(\"The distance in miles is \",dist_mi,\"miles.\")"
   ]
  },
  {
   "cell_type": "markdown",
   "metadata": {},
   "source": [
    "# 8.\tWrite a Python program to convert all units of time into seconds."
   ]
  },
  {
   "cell_type": "code",
   "execution_count": null,
   "metadata": {},
   "outputs": [],
   "source": [
    "hours = int(input(\"Enter the number of hours \"))\n",
    "minutes = int(input(\"Enter the number of minutes \"))\n",
    "seconds = int(input(\"Enter the number of seconds \"))\n",
    "\n",
    "sec = (hours*60*60)+(minutes*60)+seconds\n",
    "\n",
    "print(sec)"
   ]
  },
  {
   "cell_type": "code",
   "execution_count": null,
   "metadata": {},
   "outputs": [],
   "source": []
  }
 ],
 "metadata": {
  "kernelspec": {
   "display_name": "Python 3",
   "language": "python",
   "name": "python3"
  },
  "language_info": {
   "codemirror_mode": {
    "name": "ipython",
    "version": 3
   },
   "file_extension": ".py",
   "mimetype": "text/x-python",
   "name": "python",
   "nbconvert_exporter": "python",
   "pygments_lexer": "ipython3",
   "version": "3.7.6"
  }
 },
 "nbformat": 4,
 "nbformat_minor": 4
}
