{
 "cells": [
  {
   "cell_type": "markdown",
   "metadata": {},
   "source": [
    "## 1. Write a program to concatenate each line of 2 files."
   ]
  },
  {
   "cell_type": "code",
   "execution_count": 59,
   "metadata": {},
   "outputs": [],
   "source": [
    "i = 0\n",
    "l1 = []\n",
    "f1 = open(\"first_name.txt\",'r+')\n",
    "f2 = open(\"last_name.txt\",\"r+\")\n",
    "f3 = open(\"full_name.txt\",\"w\")\n",
    "l = f1.readlines()\n",
    "for ele in l:\n",
    "    l1.append(ele.strip())\n",
    "l2 = f2.readlines()\n",
    "l3 = l1\n",
    "while i < len(l2) :\n",
    "    l3[i] = l3[i]+\" \"+l2[i]\n",
    "    i = i+1\n",
    "for i in l3:\n",
    "    f3.write(i)\n",
    "    \n",
    "f1.close()\n",
    "f2.close()\n",
    "f3.close()"
   ]
  },
  {
   "cell_type": "markdown",
   "metadata": {},
   "source": [
    "## 2. Write a program to read numbers from one file and write the sum to another file."
   ]
  },
  {
   "cell_type": "code",
   "execution_count": 15,
   "metadata": {},
   "outputs": [],
   "source": [
    "l = []\n",
    "with open(\"numbers.txt\",\"r+\") as file:\n",
    "    sum1 = 0 \n",
    "    lines = file.readlines()\n",
    "    for nums in lines:\n",
    "        num = nums.split()\n",
    "        for i in num:\n",
    "            sum1 = sum1 + int(i)\n",
    "        l.append(sum1)\n",
    "    with open(\"sum.txt\",\"w\") as fp:\n",
    "        for i in l:\n",
    "            i = str(i)+\"\\n\"\n",
    "            fp.writelines(i)\n"
   ]
  },
  {
   "cell_type": "code",
   "execution_count": null,
   "metadata": {},
   "outputs": [],
   "source": []
  },
  {
   "cell_type": "code",
   "execution_count": null,
   "metadata": {},
   "outputs": [],
   "source": []
  }
 ],
 "metadata": {
  "kernelspec": {
   "display_name": "Python 3",
   "language": "python",
   "name": "python3"
  },
  "language_info": {
   "codemirror_mode": {
    "name": "ipython",
    "version": 3
   },
   "file_extension": ".py",
   "mimetype": "text/x-python",
   "name": "python",
   "nbconvert_exporter": "python",
   "pygments_lexer": "ipython3",
   "version": "3.7.6"
  }
 },
 "nbformat": 4,
 "nbformat_minor": 4
}
