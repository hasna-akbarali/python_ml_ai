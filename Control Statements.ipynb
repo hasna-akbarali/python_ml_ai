{
 "cells": [
  {
   "cell_type": "markdown",
   "metadata": {},
   "source": [
    "# 1.\tWrite a Python program to find those numbers which are divisible by 7 and multiple of 5, between 1500 and 2700 (both included)."
   ]
  },
  {
   "cell_type": "code",
   "execution_count": 3,
   "metadata": {},
   "outputs": [
    {
     "name": "stdout",
     "output_type": "stream",
     "text": [
      "[1505, 1540, 1575, 1610, 1645, 1680, 1715, 1750, 1785, 1820, 1855, 1890, 1925, 1960, 1995, 2030, 2065, 2100, 2135, 2170, 2205, 2240, 2275, 2310, 2345, 2380, 2415, 2450, 2485, 2520, 2555, 2590, 2625, 2660, 2695]\n"
     ]
    }
   ],
   "source": [
    "l=[]\n",
    "for i in range(1500,2700):\n",
    "    if(i%7==0 and i%5==0):\n",
    "        l.append(i)\n",
    "print(l)"
   ]
  },
  {
   "cell_type": "markdown",
   "metadata": {},
   "source": [
    "# 2.\t Write a Python program to convert temperatures to and from celsius, Fahrenheit."
   ]
  },
  {
   "cell_type": "code",
   "execution_count": 4,
   "metadata": {},
   "outputs": [
    {
     "name": "stdout",
     "output_type": "stream",
     "text": [
      "Do you want to convert from 1.Celsius to Fahrenheit or 2.Farenheit to Celsius \n",
      " Enter 1 or 2:1\n",
      "Enter the temperature in celsius123\n",
      "123 °C = 253.4 °F\n"
     ]
    }
   ],
   "source": [
    "var = int(input(\"Do you want to convert from 1.Celsius to Fahrenheit or 2.Farenheit to Celsius \\n Enter 1 or 2:\"))\n",
    "if var == 1:\n",
    "    temp=int(input(\"Enter the temperature in celsius\"))\n",
    "    fah=(temp*1.8)+32\n",
    "    print(temp,\"°C =\",fah,\"°F\")\n",
    "else:\n",
    "    temp=int(input(\"Enter the temperature in Fahrenheit\"))\n",
    "    cel=(temp-32)+1.8\n",
    "    print(temp,\"°F =\",cel,\"°C\")"
   ]
  },
  {
   "cell_type": "markdown",
   "metadata": {},
   "source": [
    "# 3.\tWrite a Python program to guess a number between 1 to 9."
   ]
  },
  {
   "cell_type": "code",
   "execution_count": 5,
   "metadata": {},
   "outputs": [
    {
     "name": "stdout",
     "output_type": "stream",
     "text": [
      "Guess a number from 1 to 9: 2\n",
      "Guess a number from 1 to 9: 3\n",
      "Guess a number from 1 to 9: 4\n",
      "Guess a number from 1 to 9: 5\n",
      "Well guessed!\n"
     ]
    }
   ],
   "source": [
    "import random\n",
    "guess = random.randint(1,9)\n",
    "num=0\n",
    "while num != guess:\n",
    "    num = int(input(\"Guess a number from 1 to 9: \"))\n",
    "print(\"Well guessed!\")\n",
    "        "
   ]
  },
  {
   "cell_type": "markdown",
   "metadata": {},
   "source": [
    "# 4.\tWrite a Python program to construct the following pattern, using a nested for loop. "
   ]
  },
  {
   "cell_type": "code",
   "execution_count": 2,
   "metadata": {},
   "outputs": [
    {
     "name": "stdout",
     "output_type": "stream",
     "text": [
      "*\n",
      "**\n",
      "***\n",
      "****\n",
      "*****\n",
      "****\n",
      "***\n",
      "**\n",
      "*\n"
     ]
    }
   ],
   "source": [
    "str=\"*\"\n",
    "for i in range(1,6):\n",
    "    print(i*str)\n",
    "for j in range(4,0,-1):\n",
    "    print(j*str)"
   ]
  },
  {
   "cell_type": "markdown",
   "metadata": {},
   "source": [
    "# 5.Write a Python program that accepts a word from the user and reverse it."
   ]
  },
  {
   "cell_type": "code",
   "execution_count": 13,
   "metadata": {},
   "outputs": [
    {
     "name": "stdout",
     "output_type": "stream",
     "text": [
      "Enter a word: hasna\n",
      "Reverse of hasna is ansah\n"
     ]
    }
   ],
   "source": [
    "word = input(\"Enter a word: \")\n",
    "rev = word[::-1]\n",
    "print(\"Reverse of\",word,\"is\",rev)"
   ]
  },
  {
   "cell_type": "markdown",
   "metadata": {},
   "source": [
    "# 6.\tWrite a Python program to count the number of even and odd numbers from a series of numbers."
   ]
  },
  {
   "cell_type": "code",
   "execution_count": 12,
   "metadata": {},
   "outputs": [
    {
     "name": "stdout",
     "output_type": "stream",
     "text": [
      "Enter the length of the list: 5\n",
      "1\n",
      "2\n",
      "3\n",
      "4\n",
      "5\n",
      "[1, 2, 3, 4, 5]\n",
      "Odd Numbers:  3\n",
      "Even Numbers:  2\n"
     ]
    }
   ],
   "source": [
    "n = int(input(\"Enter the length of the list: \"))\n",
    "l = []\n",
    "for i in range(0,n):\n",
    "    num = int(input())\n",
    "    l.append(num)\n",
    "print(l)\n",
    "odd = l[0:n:2]\n",
    "even = l[1:n:2]\n",
    "print(\"Odd Numbers: \",len(odd))\n",
    "print(\"Even Numbers: \",len(even))"
   ]
  },
  {
   "cell_type": "markdown",
   "metadata": {},
   "source": [
    "# 7.\tWrite a Python program that prints all the numbers from 0 to 6 except 3 and 6."
   ]
  },
  {
   "cell_type": "code",
   "execution_count": 2,
   "metadata": {},
   "outputs": [
    {
     "name": "stdout",
     "output_type": "stream",
     "text": [
      "0\n",
      "1\n",
      "2\n",
      "4\n",
      "5\n"
     ]
    }
   ],
   "source": [
    "for i in range(0,6):\n",
    "    if (i==3 or i==6):\n",
    "        continue\n",
    "    else:\n",
    "        print(i)"
   ]
  },
  {
   "cell_type": "markdown",
   "metadata": {},
   "source": [
    "# 8.\tWrite a Python program to get the Fibonacci series between 0 to 50."
   ]
  },
  {
   "cell_type": "code",
   "execution_count": 5,
   "metadata": {},
   "outputs": [
    {
     "name": "stdout",
     "output_type": "stream",
     "text": [
      "[0, 1, 3, 6, 10, 15, 21, 28, 36, 45, 55, 66, 78, 91, 105, 120, 136, 153, 171, 190, 210, 231, 253, 276, 300, 325, 351, 378, 406, 435, 465, 496, 528, 561, 595, 630, 666, 703, 741, 780, 820, 861, 903, 946, 990, 1035, 1081, 1128, 1176, 1225]\n"
     ]
    }
   ],
   "source": [
    "l=[]\n",
    "sum=0\n",
    "for i in range(0,50):\n",
    "    sum=sum+i\n",
    "    l.append(sum)\n",
    "print(l)"
   ]
  },
  {
   "cell_type": "markdown",
   "metadata": {},
   "source": [
    "# 9.\tWrite a Python program that accepts a string and calculate the number of digits and letters."
   ]
  },
  {
   "cell_type": "code",
   "execution_count": 9,
   "metadata": {},
   "outputs": [
    {
     "name": "stdout",
     "output_type": "stream",
     "text": [
      "Enter a string: has12!@#\n",
      "Number of digits:  2  and Number of letters:  3\n"
     ]
    }
   ],
   "source": [
    "word=input(\"Enter a string: \")\n",
    "digit_c = 0\n",
    "letter_c = 0\n",
    "special_c=0\n",
    "for i in word:\n",
    "    if i.isdigit():\n",
    "        digit_c+=1\n",
    "    elif i.isalpha():\n",
    "        letter_c+=1\n",
    "    else:\n",
    "        special_c+=1\n",
    "print(\"Number of digits: \",digit_c,\" and Number of letters: \",letter_c)"
   ]
  },
  {
   "cell_type": "markdown",
   "metadata": {},
   "source": [
    "# 10.\tWrite a Python program to check the validity of password input by users.  "
   ]
  },
  {
   "cell_type": "code",
   "execution_count": 1,
   "metadata": {},
   "outputs": [
    {
     "name": "stdout",
     "output_type": "stream",
     "text": [
      "Enter a string that would a valid password: hasna123!@#\n"
     ]
    },
    {
     "ename": "NameError",
     "evalue": "name 'A' is not defined",
     "output_type": "error",
     "traceback": [
      "\u001b[1;31m---------------------------------------------------------------------------\u001b[0m",
      "\u001b[1;31mNameError\u001b[0m                                 Traceback (most recent call last)",
      "\u001b[1;32m<ipython-input-1-b045a179e23f>\u001b[0m in \u001b[0;36m<module>\u001b[1;34m\u001b[0m\n\u001b[0;32m      5\u001b[0m         \u001b[1;32mif\u001b[0m \u001b[0mi\u001b[0m \u001b[1;32min\u001b[0m \u001b[1;33m[\u001b[0m\u001b[1;34m'@'\u001b[0m\u001b[1;33m,\u001b[0m\u001b[1;34m'#'\u001b[0m\u001b[1;33m,\u001b[0m\u001b[1;34m'$'\u001b[0m\u001b[1;33m]\u001b[0m\u001b[1;33m:\u001b[0m\u001b[1;33m\u001b[0m\u001b[1;33m\u001b[0m\u001b[0m\n\u001b[0;32m      6\u001b[0m             \u001b[0mcount\u001b[0m \u001b[1;33m+=\u001b[0m\u001b[1;36m1\u001b[0m\u001b[1;33m\u001b[0m\u001b[1;33m\u001b[0m\u001b[0m\n\u001b[1;32m----> 7\u001b[1;33m         \u001b[1;32melif\u001b[0m \u001b[0mi\u001b[0m \u001b[1;32min\u001b[0m \u001b[1;33m[\u001b[0m\u001b[0mA\u001b[0m\u001b[1;33m-\u001b[0m\u001b[0mZ\u001b[0m\u001b[1;33m]\u001b[0m\u001b[1;33m:\u001b[0m\u001b[1;33m\u001b[0m\u001b[1;33m\u001b[0m\u001b[0m\n\u001b[0m\u001b[0;32m      8\u001b[0m             \u001b[0mcount\u001b[0m \u001b[1;33m+=\u001b[0m\u001b[1;36m1\u001b[0m\u001b[1;33m\u001b[0m\u001b[1;33m\u001b[0m\u001b[0m\n\u001b[0;32m      9\u001b[0m         \u001b[1;32melif\u001b[0m \u001b[0mi\u001b[0m \u001b[1;32min\u001b[0m \u001b[1;33m[\u001b[0m\u001b[0ma\u001b[0m\u001b[1;33m-\u001b[0m\u001b[0mz\u001b[0m\u001b[1;33m]\u001b[0m\u001b[1;33m:\u001b[0m\u001b[1;33m\u001b[0m\u001b[1;33m\u001b[0m\u001b[0m\n",
      "\u001b[1;31mNameError\u001b[0m: name 'A' is not defined"
     ]
    }
   ],
   "source": [
    "word=input(\"Enter a string that would a valid password: \")\n",
    "count = 0\n",
    "if len(word) >= 6 and len(word) <= 16:\n",
    "    for i in word:\n",
    "        if i in ['@','#','$']:\n",
    "            count +=1\n",
    "        elif i in [A-Z]:\n",
    "            count +=1\n",
    "        elif i in [a-z]:\n",
    "            count +=1\n",
    "        elif i in [0-9]:\n",
    "            count +=1\n",
    "        else:\n",
    "            print(\"Password Invalid\")\n",
    "    print(\"Password Invalid\")\n"
   ]
  },
  {
   "cell_type": "code",
   "execution_count": 14,
   "metadata": {},
   "outputs": [
    {
     "name": "stdout",
     "output_type": "stream",
     "text": [
      "Enter a string that would a valid password: has123\n",
      "8\n",
      "Password Invalid\n"
     ]
    }
   ],
   "source": [
    "word=input(\"Enter a string that would a valid password: \")\n",
    "c1 = 0\n",
    "c2 = 0\n",
    "c3 = 0\n",
    "c4 = 0\n",
    "if len(word) >= 6 and len(word) <= 16:\n",
    "    for i in word:\n",
    "        if i in ['@','#','$']:\n",
    "            c1 +=1\n",
    "            continue\n",
    "        elif i.isupper():\n",
    "            c2 +=1\n",
    "            continue\n",
    "        elif i.isalpha():\n",
    "            c3 +=1\n",
    "            continue\n",
    "        elif i.isdigit():\n",
    "            c4 +=1\n",
    "            continue\n",
    "        else :\n",
    "            continue\n",
    "if c1 >= 1 and c2 >= 1 and c3 >= 1 and c4 >= 1  :\n",
    "    print(\"Password Valid\")\n",
    "else :\n",
    "    print(\"Password Invalid\")\n"
   ]
  },
  {
   "cell_type": "markdown",
   "metadata": {},
   "source": [
    "# 11.\tWrite a Python program to print alphabet pattern 'A'."
   ]
  },
  {
   "cell_type": "code",
   "execution_count": 11,
   "metadata": {},
   "outputs": [
    {
     "name": "stdout",
     "output_type": "stream",
     "text": [
      "Enter the number of rows3\n",
      "   * \n",
      "\n",
      "  * * \n",
      "\n",
      " *   * \n",
      "\n"
     ]
    }
   ],
   "source": [
    "r = int(input(\"Enter the number of rows\"))\n",
    "space = r\n",
    "for i in range(1,r+1):\n",
    "    k = space\n",
    "    for x in range(k+1,1,-1):\n",
    "        print(end=\" \")\n",
    "    for j in range(1,i+1):\n",
    "        if (j==1 or j==i):\n",
    "            print(\"*\",end=\" \")\n",
    "        elif (i==(r//2)+1):\n",
    "            print(\"*\",end=\" \")\n",
    "        else :\n",
    "            print(\" \",end=\" \")\n",
    "    space = space-1\n",
    "    print(\"\\n\")\n",
    "    "
   ]
  },
  {
   "cell_type": "code",
   "execution_count": null,
   "metadata": {},
   "outputs": [],
   "source": [
    "    *\n",
    "    \n",
    "   * *\n",
    "\n",
    "  * * *\n",
    " \n",
    " *     *"
   ]
  },
  {
   "cell_type": "markdown",
   "metadata": {},
   "source": [
    "# 12.\tWrite a Python program to print alphabet pattern 'D'."
   ]
  },
  {
   "cell_type": "code",
   "execution_count": 19,
   "metadata": {},
   "outputs": [
    {
     "name": "stdout",
     "output_type": "stream",
     "text": [
      "Enter the number of rows4\n",
      "\n",
      "\n",
      "\n",
      "*\n",
      "*\n",
      "*\n",
      "*\n",
      "\n"
     ]
    }
   ],
   "source": [
    "r = int(input(\"Enter the number of rows\"))\n",
    "for i in range(0,r):\n",
    "    for x in range(0,r):\n",
    "        if i==j :\n",
    "            print(\"*\")\n",
    "    space = space-1\n",
    "    print(\"\")\n",
    "    "
   ]
  },
  {
   "cell_type": "code",
   "execution_count": 6,
   "metadata": {
    "collapsed": true
   },
   "outputs": [
    {
     "ename": "SyntaxError",
     "evalue": "invalid syntax (<ipython-input-6-946171200305>, line 1)",
     "output_type": "error",
     "traceback": [
      "\u001b[1;36m  File \u001b[1;32m\"<ipython-input-6-946171200305>\"\u001b[1;36m, line \u001b[1;32m1\u001b[0m\n\u001b[1;33m    ****\u001b[0m\n\u001b[1;37m     ^\u001b[0m\n\u001b[1;31mSyntaxError\u001b[0m\u001b[1;31m:\u001b[0m invalid syntax\n"
     ]
    }
   ],
   "source": [
    "****\n",
    "*   *\n",
    "*   *\n",
    "*   *\n",
    "****"
   ]
  }
 ],
 "metadata": {
  "kernelspec": {
   "display_name": "Python 3",
   "language": "python",
   "name": "python3"
  },
  "language_info": {
   "codemirror_mode": {
    "name": "ipython",
    "version": 3
   },
   "file_extension": ".py",
   "mimetype": "text/x-python",
   "name": "python",
   "nbconvert_exporter": "python",
   "pygments_lexer": "ipython3",
   "version": "3.7.6"
  }
 },
 "nbformat": 4,
 "nbformat_minor": 4
}
